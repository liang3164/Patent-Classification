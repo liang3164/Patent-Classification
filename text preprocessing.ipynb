{
 "cells": [
  {
   "cell_type": "code",
   "execution_count": null,
   "metadata": {},
   "outputs": [],
   "source": [
    "'''\n",
    "Text Preprocessing for the patent classification task.\n",
    "Not using the XML format but the Patent Official Gazettes (https://bulkdata.uspto.gov/data/patent/officialgazette/2021/)\n",
    "Download one or more of the zip file, I used e-OG20210302_1484-1.zip\n",
    "A csv file is generated, containing the text of the each patent, as well as the top-level classification\n",
    "'''"
   ]
  },
  {
   "cell_type": "code",
   "execution_count": 2,
   "metadata": {},
   "outputs": [],
   "source": [
    "from bs4 import BeautifulSoup, Doctype\n",
    "import os\n",
    "import pandas as pd\n",
    "import re"
   ]
  },
  {
   "cell_type": "code",
   "execution_count": 3,
   "metadata": {},
   "outputs": [],
   "source": [
    "## Processing all the patents in individual html files"
   ]
  },
  {
   "cell_type": "code",
   "execution_count": 4,
   "metadata": {},
   "outputs": [],
   "source": [
    "directory = 'C:/Users/liangx36/Downloads/e-OG20210223_1483-4/1483-4/OG/html/'\n",
    "raw = []"
   ]
  },
  {
   "cell_type": "code",
   "execution_count": 5,
   "metadata": {},
   "outputs": [],
   "source": [
    "for root, dirnames, filenames in os.walk(directory):\n",
    "    for filename in filenames:\n",
    "        if filename.endswith('.html'):\n",
    "            fname = os.path.join(root, filename)\n",
    "            #print('Filename: {}'.format(filename))\n",
    "            with open(fname) as handle:\n",
    "                soup = BeautifulSoup(handle.read(), 'html.parser')\n",
    "                data = \"\"\n",
    "                for string in soup.stripped_strings:\n",
    "                    data += string + ' '\n",
    "            raw.append([data, filename.split(\"-\")[0].strip('US')])                       "
   ]
  },
  {
   "cell_type": "code",
   "execution_count": 6,
   "metadata": {},
   "outputs": [],
   "source": [
    "df = pd.DataFrame(raw, columns=['content','filename'])"
   ]
  },
  {
   "cell_type": "code",
   "execution_count": 7,
   "metadata": {},
   "outputs": [],
   "source": [
    "## Processing the reference data from classification folder"
   ]
  },
  {
   "cell_type": "code",
   "execution_count": 8,
   "metadata": {},
   "outputs": [],
   "source": [
    "directory_class = 'C:/Users/liangx36/Downloads/e-OG20210223_1483-4/1483-4/OG/classification/'\n",
    "final_ref = pd.DataFrame(columns = ['Subclass','Subgroup','Patent', 'IPC'])"
   ]
  },
  {
   "cell_type": "code",
   "execution_count": 9,
   "metadata": {},
   "outputs": [],
   "source": [
    "for root, dirnames, filenames in os.walk(directory_class):\n",
    "    for filename in filenames:\n",
    "        if filename.endswith('Body.html'):\n",
    "            if filename.split(\"_\")[0].startswith('uspcClassGroup'):\n",
    "                break\n",
    "            fname = os.path.join(root, filename)\n",
    "            with open(fname) as handle:\n",
    "                soup = BeautifulSoup(handle.read(), 'html.parser')\n",
    "                table_body=soup.find('table')\n",
    "                rows = table_body.find_all('tr')\n",
    "                reference = []\n",
    "                for row in rows:\n",
    "                    cols=row.find_all('td')\n",
    "                    cols=[x.text for x in cols]\n",
    "                    reference.append(cols)\n",
    "                ref = pd.DataFrame(data=reference[1:], columns=reference[0])\n",
    "                IPC = re.search('[A-H]',filename.split(\"_\")[1]).group(0)\n",
    "                ref['IPC'] = IPC\n",
    "            final_ref = pd.concat([final_ref, ref])"
   ]
  },
  {
   "cell_type": "code",
   "execution_count": 10,
   "metadata": {},
   "outputs": [],
   "source": [
    "df = df.rename(columns={\"filename\": \"Patent\"})"
   ]
  },
  {
   "cell_type": "code",
   "execution_count": 11,
   "metadata": {},
   "outputs": [],
   "source": [
    "final_df = pd.merge(df, final_ref, how=\"inner\", on=[\"Patent\"])"
   ]
  },
  {
   "cell_type": "code",
   "execution_count": 12,
   "metadata": {},
   "outputs": [],
   "source": [
    "columns_to_keep = ['content', 'IPC']\n",
    "final_df = final_df[columns_to_keep]"
   ]
  },
  {
   "cell_type": "code",
   "execution_count": 13,
   "metadata": {},
   "outputs": [],
   "source": [
    "final_df.to_csv('final_dataset.csv', index=False)"
   ]
  },
  {
   "cell_type": "code",
   "execution_count": 14,
   "metadata": {},
   "outputs": [],
   "source": [
    "#### some descriptives for the dataset"
   ]
  },
  {
   "cell_type": "code",
   "execution_count": 15,
   "metadata": {},
   "outputs": [
    {
     "data": {
      "text/plain": [
       "2045.5860727728984"
      ]
     },
     "execution_count": 15,
     "metadata": {},
     "output_type": "execute_result"
    }
   ],
   "source": [
    "## Average length:\n",
    "sum = 0\n",
    "for i in range(len(df.content)):\n",
    "    sum += len(df.content[i])\n",
    "sum/len(df.content)"
   ]
  }
 ],
 "metadata": {
  "kernelspec": {
   "display_name": "Python 3",
   "language": "python",
   "name": "python3"
  },
  "language_info": {
   "codemirror_mode": {
    "name": "ipython",
    "version": 3
   },
   "file_extension": ".py",
   "mimetype": "text/x-python",
   "name": "python",
   "nbconvert_exporter": "python",
   "pygments_lexer": "ipython3",
   "version": "3.8.5"
  }
 },
 "nbformat": 4,
 "nbformat_minor": 4
}
